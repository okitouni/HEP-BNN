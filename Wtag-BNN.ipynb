{
 "cells": [
  {
   "cell_type": "code",
   "execution_count": 1,
   "metadata": {},
   "outputs": [],
   "source": [
    "from time import time\n",
    "import numpy as np\n",
    "import torch\n",
    "from torch.utils.data import DataLoader\n",
    "from matplotlib import pyplot as plt\n",
    "from matplotlib import rcParams\n",
    "plt.style.use(\"dark_paper\")"
   ]
  },
  {
   "cell_type": "code",
   "execution_count": 2,
   "metadata": {},
   "outputs": [],
   "source": [
    "# !wget https://zenodo.org/record/3606767/files/W_high_level.npz"
   ]
  },
  {
   "cell_type": "code",
   "execution_count": 3,
   "metadata": {
    "code_folding": [
     0
    ]
   },
   "outputs": [
    {
     "name": "stderr",
     "output_type": "stream",
     "text": [
      "findfont: Font family ['serif'] not found. Falling back to DejaVu Sans.\n"
     ]
    },
    {
     "data": {
      "image/png": "[encoded data removed]",
      "text/plain": [
       "<Figure size 864x720 with 12 Axes>"
      ]
     },
     "metadata": {},
     "output_type": "display_data"
    }
   ],
   "source": [
    "#dataset \n",
    "files = np.load(\"W_high_level.npz\")\n",
    "train = files[\"train\"].astype('float32')\n",
    "val = files[\"val\"].astype('float32')\n",
    "test = files[\"test\"].astype('float32')\n",
    "\n",
    "train_labels = train[::,-1]\n",
    "val_labels   = val[::,-1]\n",
    "test_labels=test[::,-1]\n",
    "\n",
    "data = np.concatenate([train,val,test],axis=0)\n",
    "maxdata = data.max(axis=0)\n",
    "mindata = data.min(axis=0)\n",
    "data = (data-mindata)/(maxdata-mindata)\n",
    "data[::,0] = 2*(data[::,0]-data[:,0].min())/(data[:,0].max()-data[:,0].min())-1\n",
    "\n",
    "\n",
    "train = data[:train.shape[0]]\n",
    "val = data[train.shape[0]:val.shape[0]+train.shape[0]]\n",
    "test = data[val.shape[0]+train.shape[0]:]\n",
    "\n",
    "\n",
    "fig, axes = plt.subplots(3,4,figsize=(12,10))\n",
    "histtype='bar'\n",
    "label = ['mass', 'pt', 'tau21', 'c2', 'd2', 'fw', 'pf', 'ap',\n",
    "         'zcutdef', 'ktdr', 'sqrtd12', 'label']\n",
    "for i,ax in enumerate(axes.flatten()):\n",
    "    if i==11:histtype='bar'\n",
    "    ax.hist(train[:,i][train[:,-1]==0],bins=50,alpha=0.3,label='train-sign',\n",
    "            histtype=histtype)\n",
    "    ax.hist(train[:,i][train[:,-1]==1],bins=50,alpha=0.3,label='train-bckg',\n",
    "            histtype=histtype)\n",
    "    ax.hist(test[:,i][test[:,-1]==0],bins=50,alpha=0.3,label='test-sign',\n",
    "            histtype='step')\n",
    "    ax.hist(test[:,i][test[:,-1]==1],bins=50,alpha=0.3,label='test-bckg',\n",
    "            histtype='step')\n",
    "    ax.set_yticks([])\n",
    "    if i==0: ax.legend()\n",
    "    ax.set_xlabel(label[i])\n",
    "\n",
    "test_mass = files[\"test\"].astype('float32')[:,0]*250+50"
   ]
  },
  {
   "cell_type": "code",
   "execution_count": 4,
   "metadata": {
    "code_folding": [
     1
    ]
   },
   "outputs": [],
   "source": [
    "from torch.utils.data import Dataset\n",
    "class Dataset(Dataset):\n",
    "    def __init__(self, samples,labels,m=None,weights=None):\n",
    "        'Initialization'\n",
    "        self.labels = labels\n",
    "        self.samples = samples\n",
    "        self.m = m\n",
    "        if len(samples)!=len(labels):\n",
    "            raise ValueError(f\"should have the same number of samples\\\n",
    "            ({len(samples)}) as there are labels({len(labels)})\")\n",
    "        if weights is None:\n",
    "            self.weights = np.ones_like(labels)\n",
    "        else:\n",
    "            if len(weights)!=len(labels):\n",
    "                raise ValueError(f\"should have the same number of weights\\\n",
    "                ({len(weights)}) as there are samples({len(labels)})\")\n",
    "            self.weights = weights\n",
    "\n",
    "    def __len__(self):\n",
    "        return len(self.labels)\n",
    "\n",
    "    def __getitem__(self, index):\n",
    "        # Select sample\n",
    "        X = self.samples[index]\n",
    "        y = self.labels[index]\n",
    "        m = self.m[index] if self.m is not None else self.m\n",
    "        w = self.weights[index]\n",
    "        return  X,y,m,w\n",
    "\"\"\" Finalize dataset \"\"\"\n",
    "traindataset = Dataset(samples=train[::,1:-1],\n",
    "                       labels=train_labels,\n",
    "                       m = train[::,0])\n",
    "valdataset = Dataset(samples=val[:,1:-1],\n",
    "                     labels=val_labels,\n",
    "                    m = val[::,0])\n",
    "X = torch.from_numpy(test[:,1:11]).float()"
   ]
  },
  {
   "cell_type": "code",
   "execution_count": 5,
   "metadata": {
    "code_folding": [
     1,
     32,
     42,
     61
    ]
   },
   "outputs": [],
   "source": [
    "# from scipy.stats import entropy\n",
    "# class Metrics():\n",
    "#     def __init__(self,validation=False):\n",
    "#         self.validation = validation\n",
    "#         self.losses = []\n",
    "#         self.accs = []\n",
    "#         self.signalE = []\n",
    "#         self.backgroundE= []\n",
    "#         if self.validation:\n",
    "#             self.R50 = []\n",
    "#             self.JSD = []\n",
    "#     def calculate(self,pred,target,l=None,m=None):\n",
    "#         preds = np.array(pred.tolist()).flatten()\n",
    "#         targets = np.array(target.tolist()).flatten()\n",
    "#         acc = (preds.round()==targets).sum()/targets.shape[0]\n",
    "#         signal_efficiency = ((preds.round()==targets)&(targets==0)).sum()/(targets==1).sum()\n",
    "#         background_efficiency = ((preds.round()==targets)&(targets==1)).sum()/(targets==0).sum()\n",
    "#         if self.validation:\n",
    "#             c = find_threshold(preds,(targets==0),0.5)\n",
    "#             R50 = 1/((preds[targets==1]<c).sum()/(targets==1).sum())\n",
    "#             self.R50.append(R50)\n",
    "#             if m is not None:\n",
    "#                 m = np.array(m.tolist()).flatten()\n",
    "#                 hist1, bins = np.histogram(m[(targets==1)&(preds>c)],bins=50,density=True)\n",
    "#                 hist2, _ = np.histogram(m[(targets==1)&(preds<c)],bins=bins,density=True)\n",
    "#                 JSD = 0.5*(entropy(hist1,0.5*(hist1+hist2))+entropy(hist2,0.5*(hist1+hist2)))\n",
    "#                 self.JSD.append(JSD)\n",
    "#         self.accs.append(acc)\n",
    "#         self.signalE.append(signal_efficiency)\n",
    "#         self.backgroundE.append(background_efficiency)\n",
    "#         if l:\n",
    "#             self.losses.append(l)\n",
    "# def metric_calc(model,X,y,x_biased,metric=None):\n",
    "#     predictions = np.array(model(X).tolist()).flatten()\n",
    "#     if metric is None:\n",
    "#         metrics_test = Metrics(validation=True) \n",
    "#     else:\n",
    "#         metrics_test = metric(validation=True) \n",
    "#     metrics_test.calculate(pred=predictions, target=y,m=x_biased)\n",
    "#     R50 = metrics_test.R50[0]\n",
    "#     JSD = metrics_test.JSD[0]\n",
    "#     return (1/JSD,R50)\n",
    "# def find_threshold(L,mask,x_frac):\n",
    "#     \"\"\"\n",
    "#     Calculate c such that x_frac of the array is less than c.\n",
    "\n",
    "#     Parameters\n",
    "#     ----------\n",
    "#     L : Array\n",
    "#         The array where the cutoff is to be found\n",
    "#     mask : Array,\n",
    "#         Mask that returns L[mask] the part of the original array over which it is desired to calculate the threshold.\n",
    "#     x_frac : float\n",
    "#         Of the area that is lass than or equal to c.\n",
    "\n",
    "#     returns c (type=L.dtype)\n",
    "#     \"\"\"\n",
    "#     max_x = mask.sum()\n",
    "#     x = int(np.round(x_frac * max_x))\n",
    "#     L_sorted = np.sort(L[mask.astype(bool)])\n",
    "#     return L_sorted[x]   \n",
    "# def plot_stuff(predictions,y,x_biased,mbins=100,histbins=None,name='',f=None,ptype=0,dynamicbins=True,scale=None,xlim=None,legend_ncol=3):\n",
    "#     if histbins == None:\n",
    "#         histbins=mbins\n",
    "#     predictions = np.array(predictions).flatten()\n",
    "#     metrics_test = Metrics(validation=True) \n",
    "#     metrics_test.calculate(pred=predictions, target=y,m=x_biased)\n",
    "#     R50 = metrics_test.R50[0]\n",
    "#     JSD = metrics_test.JSD[0]\n",
    "    \n",
    "    \n",
    "#     c = find_threshold(predictions,(y==0),0.5)\n",
    "#     fig, [ax,ax1] = plt.subplots(2,1,figsize=(6,8),dpi=120,sharex=True)\n",
    "#     _,bins,_ = ax.hist(x_biased[(y==1)],bins=histbins,alpha=0.3,color='C1',label='Background',density=True,log=True)\n",
    "#     ax.hist(x_biased[(y==1)&(predictions<c)],bins=bins,alpha=0.3,color='C0',label='False Positives',density=True,log=True)\n",
    "#     ax.set_ylabel(\"Normed Counts\",fontsize=14)\n",
    "#     ax.set_title('{} (R50:{:.2f}, 1/JSD:{:.2f})'.format(name,R50,1/JSD))\n",
    "#     ax.legend()\n",
    "\n",
    "#     efficiencies = np.linspace(0.1,0.9,9)[::-1]\n",
    "#     cuts = []\n",
    "#     for eff in efficiencies:\n",
    "#         cuts.append(find_threshold(predictions,(y==0),eff))\n",
    "#     m = x_biased[y==1]\n",
    "#     scores = predictions[y==1]\n",
    "#     if dynamicbins:\n",
    "#         mod = len(m)%mbins\n",
    "#         if mod!=0:\n",
    "#             m = m[:-mod]\n",
    "#             scores = scores[:-mod]\n",
    "#         sorted_m = np.argsort(m)\n",
    "#         scores = scores[sorted_m].reshape(mbins,-1)\n",
    "#         m = m[sorted_m]\n",
    "#         m = m.reshape(mbins,-1).mean(axis=1)\n",
    "#     else:\n",
    "#         _,bins = np.histogram(m,bins=mbins)\n",
    "#         digitized = np.digitize(m,bins)\n",
    "#         m = (bins[:-1] + bins[1:])*0.5\n",
    "#     for j,cut in enumerate(cuts):\n",
    "#         c = f\"C{j}\" #if j!= 6 else f\"C11\"\n",
    "#         if dynamicbins:\n",
    "#             passed = (scores<cut).sum(axis=1)/scores.shape[1]\n",
    "#         else:\n",
    "#             passed = [(scores[digitized==i+1]<cut).sum()/(digitized==i+1).sum() for i in range(mbins)]\n",
    "#         if ptype == 0:\n",
    "#             ax1.plot(m,passed,label=\"{:0.1f}\".format(efficiencies[j]),alpha=0.9,c=c,lw=1)\n",
    "#         else:\n",
    "#             ax1.step(m,passed,label=\"{:0.1f}\".format(efficiencies[j]),alpha=0.9,c=c,lw=1)\n",
    "#     if scale is not None:\n",
    "#         ax1.set_yscale(scale)        \n",
    "#     ax1.set_ylabel(\"False Pos. Rate\",fontsize=14)\n",
    "#     ax1.set_ylim([-0.02,1.02])\n",
    "#     if xlim: ax1.set_xlim(xlim)\n",
    "#     ax1.legend(loc='upper right', bbox_to_anchor=(1,1) ,markerscale=5,title=\"True Pos. Rate (Signal Efficiency)\",ncol=legend_ncol)\n",
    "#     ax1.set_xlabel(r\"$m$\",fontsize=14)\n",
    "#     fig.tight_layout(pad=0)\n",
    "#     if f is not None:\n",
    "#         fig.savefig(f)\n",
    "#     plt.show()\n",
    "#     return (1/JSD,R50)\n",
    "# from os.path import exists\n",
    "def swish(x):\n",
    "    return x* torch.sigmoid(x)   "
   ]
  },
  {
   "cell_type": "code",
   "execution_count": 6,
   "metadata": {
    "code_folding": [
     0,
     20,
     27
    ]
   },
   "outputs": [],
   "source": [
    "# class Model(torch.nn.Module):\n",
    "#     def __init__(self,input_size=10):\n",
    "#         \"\"\"\n",
    "#          DNN Model inherits from torch.torch.nn.Module. Can be initialized with input_size: Number of features per sample.\n",
    "\n",
    "#         This is a class wrapper for a simple DNN model. Creates an instance of torch.torch.nn.Module that has 4 linear layers. Use torchsummary for details.abs\n",
    "\n",
    "#         Parameters\n",
    "#         ----------\n",
    "#         input_size : int=10\n",
    "#             The number of features to train on.\n",
    "#         name : string=None\n",
    "#             Specifiy a name for the Dtorch.nn.break\n",
    "#         \"\"\"\n",
    "#         super().__init__()\n",
    "#         self.linear = torch.nn.Linear(input_size,64,bias=False)\n",
    "#         self.linear1 = torch.nn.Linear(64,64,)\n",
    "#         self.linear2 = torch.nn.Linear(64,64)\n",
    "#         self.batchnorm = torch.nn.BatchNorm1d(64)\n",
    "#         self.out = torch.nn.Linear(64,1)\n",
    "#     def forward(self, x):\n",
    "#         x = swish(self.linear(x))\n",
    "#         x = self.batchnorm(x)\n",
    "#         x = swish(self.linear1(x))\n",
    "#         x = swish(self.linear2(x))\n",
    "#         x = torch.sigmoid(self.out(x))\n",
    "#         return x \n",
    "#     def fit(self,traindataset,epochs=200,batch_size=None, shuffle=False, num_workers=None, optimizer=None,scheduler=None,loss=None,interval=100,valdataset=None,drop_last=False,metrics=None,device='cpu',verbose=True):\n",
    "#         \"\"\"\n",
    "#         Fit model to traindataset.\n",
    "\n",
    "#         Parameters\n",
    "#         ----------\n",
    "#         traindataset : DataSet\n",
    "#             The DataSet [torch.utils.data.Dataset] instance containing the training data. Used to create a DataLoader. Must return x,y,m where x is the vector of features, y is the label and m is the biased feature.\n",
    "#         epochs : int\n",
    "#             Number of epochs to train.\n",
    "#         batch_size : int\n",
    "#             Size of the batch.\n",
    "#         shuffle : bool\n",
    "#             If True shuffles the training data.\n",
    "#         num_workers : int\n",
    "#             Passed to DataLoader.\n",
    "#         optimizer : torch.optim\n",
    "#             Optimizer to use in the training. Defaults to torch.optim.SGD(lr-1e-3).\n",
    "#         scheduler : torch.optim.lr_scheduler\n",
    "#             Scheduler used to change the learning rate.\n",
    "#         loss : Callable\n",
    "#             Criterion to minimize. Defaults to torch.nn.MSELoss\n",
    "#         interval : int\n",
    "#             Log and print progress every epochs mod interval == 0.\n",
    "#         valdataset : DataSet\n",
    "#             Same as traindataset but for the validation data.\n",
    "#         drop_last : bool\n",
    "#             If drop_last the DataLoader will only keep floor(len(traindataset)/batch_size). Used if the loss requires batches of the same size.\n",
    "#         metrics : [Metrics,Metrics]\n",
    "#             Metrics object where to store the training/validation metrics.\n",
    "#         device : str or torch.device\n",
    "#             Which device to use. Defaults to cpu.\n",
    "#         \"\"\"\n",
    "#         if optimizer is None:\n",
    "#             optimizer = torch.optim.Adam(self.parameters(),lr=1e-3)\n",
    "#         if loss:\n",
    "#             self.loss = loss\n",
    "#         if metrics is None:\n",
    "#             metrics = [Metrics(),Metrics(validation=True)]\n",
    "#         if valdataset:\n",
    "#             validation_generator = DataLoader(valdataset,batch_size=len(valdataset),shuffle=False)\n",
    "#         training_generator = DataLoader(traindataset, batch_size=batch_size, shuffle=shuffle,num_workers=num_workers,drop_last=drop_last)\n",
    "#         t0 = time()\n",
    "#         loss = 0\n",
    "#         acc = 0\n",
    "#         self.losses = []\n",
    "#         print(\"Entering Training...\")\n",
    "#         for epoch in range(1,epochs+1):\n",
    "#            # Feed forward\n",
    "#             #self.loss.m = torch.Tensor().to(device)\n",
    "#             #self.loss.pred_long = torch.Tensor().to(device)\n",
    "#             for item in training_generator:\n",
    "#                 x,y,m,weights = item\n",
    "#                 if device!='cpu':\n",
    "#                     x,y,m,weights = x.to(device),y.to(device),m.to(device), weights.to(device)\n",
    "#                 self.train()\n",
    "#                 yhat = self(x).view(-1)\n",
    "#                 l = self.loss(pred=yhat,target=y,x_biased=m,weights=weights)\n",
    "#                 l.backward()\n",
    "#                 self.losses.append(l.item())  #delete later\n",
    "#                 metrics[0].losses.append(l.item())\n",
    "#                 optimizer.step()\n",
    "#                 optimizer.zero_grad()\n",
    "#                 if scheduler is not None: scheduler.step()\n",
    "#             #Validation and Printing\n",
    "#             if valdataset:\n",
    "#                 if epoch % interval ==0 or epoch == epochs or epoch==1:\n",
    "#                     self.train(False)\n",
    "#                     for x,yval,m_val,weights in  validation_generator:\n",
    "#                         break\n",
    "#                     if device!='cpu':\n",
    "#                         x,yval,m_val = x.to(device),yval.to(device),m_val.to(device)\n",
    "#                    #     weights = weights.to(device)\n",
    "#                     yhat_val = self(x).view(-1)\n",
    "#                     valloss = lambda x,y: ((x-y)**2).mean()\n",
    "#                     l_val = valloss(yhat_val,yval)\n",
    "#                     metrics[0].calculate(pred=yhat.data,target=y,m=m)\n",
    "#                     metrics[1].calculate(pred=yhat_val.data,target=yval,m=m_val,l=l_val.item())\n",
    "#                     if verbose or log is not None:\n",
    "#                         acc = metrics[0].accs[-1]\n",
    "#                         R50 = metrics[1].R50[-1]\n",
    "#                         JSD = metrics[1].JSD[-1]\n",
    "#                         acc_val = metrics[1].accs[-1]\n",
    "#                         entry = 'Epoch:{:04d}/{:04d}  ({t:<5.1f}s)\\n'.format(epoch,epochs,t=time()-t0) +\\\n",
    "#                                 ' Train: loss:{:.4f}, acc:{:.1f}%'.format(l.item(),100*acc) +\\\n",
    "#                                 ' || Val: loss: {:.4f}, acc:{:.1f}%, R50: {:.4f}, 1/JSD: {:.4f}'.format(\n",
    "#                     l_val.item(), 100.* acc_val,R50,1/JSD)\n",
    "#                         if verbose:\n",
    "#                             print(entry)\n",
    "#                     del x, yval, m, l_val, m_val, weights\n",
    "#                     self.yhat_val = yhat_val.data.cpu()\n",
    "#             else:\n",
    "#                 if epoch % interval ==0:\n",
    "#                     metrics[0].calculate(pred=yhat.data,target=y,l=l.item())\n",
    "#                     acc = metrics[0].accs[-1]\n",
    "#                     entry = 'Epoch:{:04d}/{:04d} loss: {:.4f}, accuracy:({:.0f}%)'.format(\n",
    "#                         epoch,epochs,l.item(), 100.* acc)\n",
    "#                     print(entry)\n",
    "#         del l,y,item, yhat\n",
    "#         if valdataset: del yhat_val\n",
    "#         if device!=\"cpu\": torch.cuda.empty_cache()"
   ]
  },
  {
   "cell_type": "code",
   "execution_count": 7,
   "metadata": {},
   "outputs": [],
   "source": [
    "# # Select training paramters\n",
    "# np.random.seed(42)\n",
    "# use_cuda = torch.cuda.is_available()\n",
    "# device = torch.device(\"cuda:0\" if use_cuda else \"cpu\")\n",
    "# params = {'epochs'       : 50,\n",
    "#           'interval'     : 10, # every \"interval\" print validation results\n",
    "#           'batch_size'   : 2**14,\n",
    "#           'shuffle'      : True,\n",
    "#           'num_workers'  : 6, # to load data in preparation of next iteration uses more memory but saves time.\n",
    "#           'drop_last'    : False,\n",
    "#           'device'       : device,\n",
    "#          }\n",
    "# lr = 1e-2\n",
    "# print(\"Using device:\", device)"
   ]
  },
  {
   "cell_type": "code",
   "execution_count": 8,
   "metadata": {},
   "outputs": [],
   "source": [
    "# #Train a standard classifier without MoDe loss (only classification loss)\n",
    "# torch.manual_seed(777)\n",
    "# model = Model(input_size=traindataset.samples.shape[1]).to(device)\n",
    "# # Instantiate MoDe Loss \n",
    "# loss = lambda pred,target,x_biased,weights: torch.mean(weights*(target-pred)**2)\n",
    "# optimizer = torch.optim.Adam(model.parameters(),lr=lr)\n",
    "# model.fit(**params,traindataset=traindataset, valdataset=valdataset, \n",
    "#           optimizer=optimizer,loss=loss)"
   ]
  },
  {
   "cell_type": "code",
   "execution_count": 9,
   "metadata": {
    "scrolled": false
   },
   "outputs": [],
   "source": [
    "# with torch.no_grad():\n",
    "#     title = r\"Unconstrained Classifier\"\n",
    "#     model.to(\"cpu\")\n",
    "#     model.train(False)\n",
    "#     yhat_test = model(X).view(-1).tolist()\n",
    "#     plot_stuff(yhat_test,test_labels,test_mass,mbins=100,histbins=None,name=title,f=None,ptype=0,\n",
    "#                 dynamicbins=True,scale=None,xlim=None,legend_ncol=3)"
   ]
  },
  {
   "cell_type": "markdown",
   "metadata": {},
   "source": [
    "# Pyro "
   ]
  },
  {
   "cell_type": "code",
   "execution_count": 10,
   "metadata": {},
   "outputs": [],
   "source": [
    "import pyro\n",
    "import pyro.distributions as dist\n",
    "from pyro.nn import PyroSample, PyroModule\n",
    "from pyro.infer.autoguide import AutoDiagonalNormal\n",
    "from pyro.infer import SVI, Trace_ELBO\n",
    "\n",
    "#pyro.enable_validation(True)\n",
    "pyro.set_rng_seed(4042)  # set RNG seed"
   ]
  },
  {
   "cell_type": "code",
   "execution_count": 39,
   "metadata": {
    "code_folding": []
   },
   "outputs": [],
   "source": [
    "class BayesNN(PyroModule):\n",
    "    def __init__(self, hidden_size):\n",
    "        super().__init__()\n",
    "        # linear layer with weight and bias sampled from a Gaussian prior\n",
    "        self.linear = PyroModule[torch.nn.Linear](10, hidden_size)\n",
    "        self.linear.weight = PyroSample(dist.Normal(0., 1.).expand([hidden_size, 10]).to_event(2))\n",
    "        self.linear.bias = PyroSample(dist.Normal(0., 1.).expand([hidden_size]).to_event(1))\n",
    "        # linear layer with weight and bias sampled from a Gaussian prior\n",
    "        self.linear1 = PyroModule[torch.nn.Linear](hidden_size, hidden_size)\n",
    "        self.linear1.weight = PyroSample(dist.Normal(0., 1.).expand([hidden_size, hidden_size]).to_event(2))\n",
    "        self.linear1.bias = PyroSample(dist.Normal(0., 1.).expand([hidden_size]).to_event(1))\n",
    "        # linear layer with weight and bias sampled from a Gaussian prior\n",
    "        self.linear2 = PyroModule[torch.nn.Linear](hidden_size, hidden_size)\n",
    "        self.linear2.weight = PyroSample(dist.Normal(0., 1.).expand([hidden_size, hidden_size]).to_event(2))\n",
    "        self.linear2.bias = PyroSample(dist.Normal(0., 1.).expand([hidden_size]).to_event(1))\n",
    "        # output layer with weight and bias sampled from a Gaussian prior\n",
    "        self.out = PyroModule[torch.nn.Linear](hidden_size, 2)\n",
    "        self.out.weight = PyroSample(dist.Normal(0., 1.).expand([2, hidden_size]).to_event(2))\n",
    "        self.out.bias = PyroSample(dist.Normal(0., 1.).expand([2]).to_event(1)) \n",
    "        # non-linear activation function\n",
    "        #self.batchnorm = torch.nn.BatchNorm1d(64)\n",
    "        self.log_softmax = torch.nn.LogSoftmax(dim=1)\n",
    "    def forward(self, x,y=None):\n",
    "        x = swish(self.linear(x))\n",
    "        #x = self.batchnorm(x)\n",
    "        x = swish(self.linear1(x))\n",
    "        x = swish(self.linear2(x))\n",
    "        x = self.log_softmax(self.out(x))\n",
    "        # Define likelihood P(y | w)\n",
    "        with pyro.plate(\"data\", x.shape[0]):\n",
    "            obs = pyro.sample(\"obs\", dist.Categorical(logits=x), obs=y)\n",
    "        return x"
   ]
  },
  {
   "cell_type": "code",
   "execution_count": 40,
   "metadata": {},
   "outputs": [
    {
     "name": "stdout",
     "output_type": "stream",
     "text": [
      "BayesNN(\n",
      "  (linear): PyroLinear(in_features=10, out_features=64, bias=True)\n",
      "  (linear1): PyroLinear(in_features=64, out_features=64, bias=True)\n",
      "  (linear2): PyroLinear(in_features=64, out_features=64, bias=True)\n",
      "  (out): PyroLinear(in_features=64, out_features=2, bias=True)\n",
      "  (log_softmax): LogSoftmax(dim=1)\n",
      ")\n",
      "AutoDiagonalNormal()\n"
     ]
    }
   ],
   "source": [
    "# Define model and guide function\n",
    "bayes_net = BayesNN(64)\n",
    "guide = AutoDiagonalNormal(bayes_net)\n",
    "\n",
    "print(bayes_net)\n",
    "print(guide)\n",
    "\n",
    "# Define SVI and optimizer\n",
    "pyro.clear_param_store()\n",
    "optimizer = pyro.optim.Adam({\"lr\": 0.03})\n",
    "svi = SVI(bayes_net, guide, optimizer, loss=Trace_ELBO())"
   ]
  },
  {
   "cell_type": "markdown",
   "metadata": {},
   "source": [
    "#### Starting Training"
   ]
  },
  {
   "cell_type": "code",
   "execution_count": 41,
   "metadata": {},
   "outputs": [],
   "source": [
    "training_generator = DataLoader(traindataset, batch_size=32, \n",
    "                                shuffle=True,num_workers=6,drop_last=False)"
   ]
  },
  {
   "cell_type": "code",
   "execution_count": 42,
   "metadata": {},
   "outputs": [
    {
     "name": "stdout",
     "output_type": "stream",
     "text": [
      "Start training\n",
      "Epoch 0: Loss 26.87236178472572\n",
      "Epoch 2: Loss 24.886897748903433\n",
      "Epoch 4: Loss 24.935543116998673\n",
      "Epoch 6: Loss 25.291879598689743\n",
      "Epoch 8: Loss 24.919438592633938\n"
     ]
    }
   ],
   "source": [
    "epochs = 10\n",
    "print('Start training')\n",
    "for epoch in range(epochs):\n",
    "    train_loss = 0\n",
    "    #bayes_net.train(True)\n",
    "    for i_batch, (x_data, y_data,m,weights) in enumerate(training_generator):\n",
    "        # calculate the loss and take a gradient step\n",
    "        train_loss += svi.step(x_data, y_data)\n",
    "    train_loss = train_loss / len(training_generator.dataset)\n",
    "    if epoch%2==0:\n",
    "        print(\"Epoch {}: Loss {}\".format(epoch, train_loss))"
   ]
  },
  {
   "cell_type": "code",
   "execution_count": 43,
   "metadata": {},
   "outputs": [],
   "source": [
    "test_generator = DataLoader(valdataset, batch_size=2, \n",
    "                                shuffle=False,num_workers=1,drop_last=False)"
   ]
  },
  {
   "cell_type": "code",
   "execution_count": 44,
   "metadata": {},
   "outputs": [
    {
     "name": "stdout",
     "output_type": "stream",
     "text": [
      "0.0%\r",
      "Done!\n",
      "accuracy: 100 %\n"
     ]
    }
   ],
   "source": [
    "from pyro.infer import Predictive\n",
    "\n",
    "# Create prediction model with 100 samples\n",
    "return_sites = (\"_RETURN\", )\n",
    "num_samples = 1000\n",
    "#bayes_net.train(False)\n",
    "predictive = Predictive(\n",
    "    bayes_net, guide=guide, num_samples=num_samples, return_sites=return_sites)\n",
    "\n",
    "def bayes_predict(x):\n",
    "    ''' Convenient prediction function using the Bayseian NN '''\n",
    "    with torch.no_grad():\n",
    "        yhat = predictive(x)['_RETURN']\n",
    "        yhat = torch.mean(yhat, 0)\n",
    "        return torch.argmax(yhat, 1)\n",
    "    \n",
    "# Evaluate performance on test set\n",
    "correct = 0\n",
    "total = 0\n",
    "with torch.no_grad():\n",
    "    for i, (x_data, y_data,m,weights) in enumerate(test_generator):\n",
    "        yhat = predictive(x_data)['_RETURN']\n",
    "        yhat_data = bayes_predict(x_data)\n",
    "        total += y_data.size(0)\n",
    "        correct += (yhat_data == y_data).sum().item() \n",
    "        if i%10==0:\n",
    "            print(f\"{i/20:.1f}%\",end=\"\\r\")\n",
    "        break\n",
    "print(\"Done!\")\n",
    "print(\"accuracy: %d %%\" % (100 * correct / total))"
   ]
  },
  {
   "cell_type": "code",
   "execution_count": 31,
   "metadata": {},
   "outputs": [
    {
     "data": {
      "text/plain": [
       "tensor([-1.0569, -1.0569, -1.0569,  ..., -1.0569, -1.0569, -1.0569])"
      ]
     },
     "execution_count": 31,
     "metadata": {},
     "output_type": "execute_result"
    }
   ],
   "source": [
    "yhat[3,:,1]"
   ]
  },
  {
   "cell_type": "code",
   "execution_count": 32,
   "metadata": {},
   "outputs": [
    {
     "data": {
      "text/plain": [
       "torch.Size([1000, 2048, 2])"
      ]
     },
     "execution_count": 32,
     "metadata": {},
     "output_type": "execute_result"
    }
   ],
   "source": [
    "yhat.shape"
   ]
  },
  {
   "cell_type": "code",
   "execution_count": 33,
   "metadata": {},
   "outputs": [
    {
     "data": {
      "text/plain": [
       "tensor([[    0.0000, -1423.1956],\n",
       "        [    0.0000, -1682.9211],\n",
       "        [    0.0000, -1835.7261],\n",
       "        ...,\n",
       "        [    0.0000, -1805.3538],\n",
       "        [    0.0000, -1662.4012],\n",
       "        [    0.0000, -1565.8146]])"
      ]
     },
     "execution_count": 33,
     "metadata": {},
     "output_type": "execute_result"
    }
   ],
   "source": [
    "bayes_net(x_data)"
   ]
  },
  {
   "cell_type": "code",
   "execution_count": 34,
   "metadata": {},
   "outputs": [
    {
     "data": {
      "text/plain": [
       "tensor([[-1152.7560,     0.0000],\n",
       "        [-1006.6232,     0.0000],\n",
       "        [ -772.7792,     0.0000],\n",
       "        ...,\n",
       "        [ -886.8048,     0.0000],\n",
       "        [ -939.0090,     0.0000],\n",
       "        [-1069.8812,     0.0000]])"
      ]
     },
     "execution_count": 34,
     "metadata": {},
     "output_type": "execute_result"
    }
   ],
   "source": [
    "bayes_net(x_data)"
   ]
  },
  {
   "cell_type": "code",
   "execution_count": null,
   "metadata": {},
   "outputs": [],
   "source": []
  }
 ],
 "metadata": {
  "kernelspec": {
   "display_name": "Python 3",
   "language": "python",
   "name": "python3"
  },
  "language_info": {
   "codemirror_mode": {
    "name": "ipython",
    "version": 3
   },
   "file_extension": ".py",
   "mimetype": "text/x-python",
   "name": "python",
   "nbconvert_exporter": "python",
   "pygments_lexer": "ipython3",
   "version": "3.7.7"
  }
 },
 "nbformat": 4,
 "nbformat_minor": 4
}
