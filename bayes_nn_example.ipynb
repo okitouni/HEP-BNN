{
 "cells": [
  {
   "cell_type": "markdown",
   "metadata": {
    "Collapsed": "false"
   },
   "source": [
    "Import initial dependencies"
   ]
  },
  {
   "cell_type": "code",
   "execution_count": 5,
   "metadata": {
    "Collapsed": "false"
   },
   "outputs": [],
   "source": [
    "%matplotlib inline\n",
    "\n",
    "import numpy as np\n",
    "import torch\n",
    "import torch.nn as nn\n",
    "import torch.optim as optim\n",
    "import torchvision.transforms as transforms\n",
    "import torchvision.datasets as dset\n",
    "import seaborn as sns\n",
    "\n",
    "import matplotlib as mpl\n",
    "import matplotlib.pyplot as plt"
   ]
  },
  {
   "cell_type": "code",
   "execution_count": 6,
   "metadata": {},
   "outputs": [],
   "source": [
    "mpl.rc('font', size=15)\n",
    "mpl.rc('figure', figsize=(8, 5))"
   ]
  },
  {
   "cell_type": "markdown",
   "metadata": {
    "Collapsed": "false"
   },
   "source": [
    "## Download MNIST dataset and import into Pytorch DataLoader"
   ]
  },
  {
   "cell_type": "code",
   "execution_count": 7,
   "metadata": {
    "Collapsed": "false"
   },
   "outputs": [],
   "source": [
    "def setup_data_loaders(batch_size=128):\n",
    "    \n",
    "    # Download dataset\n",
    "    root = './data'\n",
    "    download = True\n",
    "    trans = transforms.ToTensor()\n",
    "    train_set = dset.MNIST(root=root, train=True, download=download,\n",
    "                           transform=trans)\n",
    "    test_set = dset.MNIST(root=root, train=False, transform=trans)\n",
    "    \n",
    "    # Setup dataloader\n",
    "    train_loader = torch.utils.data.DataLoader(\n",
    "        dataset=train_set, batch_size=batch_size, shuffle=True)\n",
    "    test_loader = torch.utils.data.DataLoader(\n",
    "        dataset=test_set, batch_size=batch_size, shuffle=False)\n",
    "    \n",
    "    return train_loader, test_loader\n",
    "\n",
    "train_loader, test_loader = setup_data_loaders()"
   ]
  },
  {
   "cell_type": "code",
   "execution_count": 8,
   "metadata": {
    "Collapsed": "false"
   },
   "outputs": [
    {
     "data": {
      "image/png": "[encoded data removed]",
      "text/plain": [
       "<Figure size 576x360 with 1 Axes>"
      ]
     },
     "metadata": {
      "needs_background": "light"
     },
     "output_type": "display_data"
    },
    {
     "name": "stdout",
     "output_type": "stream",
     "text": [
      "Label: 5\n"
     ]
    }
   ],
   "source": [
    "def show_image(x, save=None):\n",
    "    ''' Convienent function to plot MNIST image from numpy array'''\n",
    "    if isinstance(x, torch.Tensor):\n",
    "        x = x.detach().numpy()\n",
    "    x = x.reshape(28, 28)\n",
    "    \n",
    "    plt.figure()\n",
    "    plt.imshow(x, cmap='gray', vmin=0, vmax=1)\n",
    "    plt.axis('off')\n",
    "    if save is not None:\n",
    "        plt.savefig(save, dpi=300)\n",
    "    plt.show()\n",
    "    \n",
    "# show the first image\n",
    "x, y = train_loader.dataset[0]\n",
    "\n",
    "show_image(x)\n",
    "\n",
    "print('Label: {}'.format(y))"
   ]
  },
  {
   "cell_type": "markdown",
   "metadata": {
    "Collapsed": "false"
   },
   "source": [
    "## Train a simple CNN"
   ]
  },
  {
   "cell_type": "code",
   "execution_count": 11,
   "metadata": {
    "Collapsed": "false"
   },
   "outputs": [],
   "source": [
    "def conv_dim(kernel, pad, dim=28):\n",
    "    return 28 + 2 * pad - kernel + 1\n",
    "\n",
    "class CNN(nn.Module):\n",
    "    def __init__(self, conv_filter, hidden_size):\n",
    "        super().__init__()\n",
    "        \n",
    "        self.conv = nn.Conv2d(1, conv_filter, 5, padding=2)\n",
    "        self.maxpool = nn.MaxPool2d(2)\n",
    "        self.fc1 = nn.Linear(14 * 14 * conv_filter, hidden_size)\n",
    "        self.fc2 = nn.Linear(hidden_size, 10)\n",
    "        \n",
    "        self.relu = nn.ReLU()\n",
    "        self.log_softmax = nn.LogSoftmax(dim=1)\n",
    "        self.conv_filter = conv_filter\n",
    "        \n",
    "    def forward(self, x):\n",
    "        x = self.relu(self.conv(x))\n",
    "        x = self.maxpool(x)\n",
    "        x = x.view(-1,  14 * 14 * self.conv_filter)\n",
    "        x = self.relu(self.fc1(x))\n",
    "        x = self.log_softmax(self.fc2(x))\n",
    "        return x\n",
    "    \n",
    "net = CNN(8, 32)\n",
    "optimizer = optim.Adam(net.parameters(), lr=0.03)\n",
    "criterion = nn.CrossEntropyLoss(reduction='sum')"
   ]
  },
  {
   "cell_type": "markdown",
   "metadata": {},
   "source": [
    "Start training"
   ]
  },
  {
   "cell_type": "code",
   "execution_count": 12,
   "metadata": {
    "Collapsed": "false"
   },
   "outputs": [
    {
     "name": "stdout",
     "output_type": "stream",
     "text": [
      "Start training\n",
      "Epoch 0: Loss 0.1865922105272611\n",
      "Epoch 1: Loss 0.10187151569724083\n",
      "Epoch 2: Loss 0.08969498289351661\n",
      "Epoch 3: Loss 0.09500042453669011\n",
      "Epoch 4: Loss 0.09053395722359418\n"
     ]
    }
   ],
   "source": [
    "max_epochs = 5\n",
    "\n",
    "print('Start training')\n",
    "for epoch in range(max_epochs):\n",
    "    train_loss = 0\n",
    "    for i_batch, (x_data, y_data) in enumerate(train_loader):\n",
    "        optimizer.zero_grad()\n",
    "        yhat = net(x_data)\n",
    "        loss = criterion(yhat, y_data)\n",
    "        loss.backward()\n",
    "        optimizer.step()\n",
    "        train_loss += loss.item()\n",
    "        \n",
    "    train_loss = train_loss / len(train_loader.dataset)\n",
    "    print(\"Epoch {}: Loss {}\".format(epoch, train_loss))"
   ]
  },
  {
   "cell_type": "markdown",
   "metadata": {},
   "source": [
    "## Train a simple FC BNN"
   ]
  },
  {
   "cell_type": "markdown",
   "metadata": {
    "Collapsed": "false"
   },
   "source": [
    "Import Pyro dependencies"
   ]
  },
  {
   "cell_type": "code",
   "execution_count": 13,
   "metadata": {
    "Collapsed": "false"
   },
   "outputs": [],
   "source": [
    "import pyro\n",
    "import pyro.distributions as dist\n",
    "from pyro.nn import PyroSample, PyroModule\n",
    "from pyro.infer.autoguide import AutoDiagonalNormal\n",
    "from pyro.infer import SVI, Trace_ELBO\n",
    "\n",
    "pyro.enable_validation(True)\n",
    "pyro.set_rng_seed(4042)  # set RNG seed"
   ]
  },
  {
   "cell_type": "code",
   "execution_count": 14,
   "metadata": {
    "Collapsed": "false"
   },
   "outputs": [],
   "source": [
    "class BayesNN(PyroModule):\n",
    "    def __init__(self, hidden_size):\n",
    "        super().__init__()\n",
    "        \n",
    "        # linear layer with weight and bias sampled from a Gaussian prior\n",
    "        self.fc = PyroModule[nn.Linear](784, hidden_size)\n",
    "        self.fc.weight = PyroSample(dist.Normal(0., 1.).expand([hidden_size, 784]).to_event(2))\n",
    "        self.fc.bias = PyroSample(dist.Normal(0., 10.).expand([hidden_size]).to_event(1))\n",
    "        \n",
    "        # output layer with weight and bias sampled from a Gaussian prior\n",
    "        self.out = PyroModule[nn.Linear](hidden_size, 10)\n",
    "        self.out.weight = PyroSample(dist.Normal(0., 1.).expand([10, hidden_size]).to_event(2))\n",
    "        self.out.bias = PyroSample(dist.Normal(0., 10.).expand([10]).to_event(1))\n",
    "        \n",
    "        # non-linear activation function\n",
    "        self.relu = nn.ReLU()\n",
    "        self.log_softmax = nn.LogSoftmax(dim=1)\n",
    "        \n",
    "    def forward(self, x, y=None):\n",
    "        x = x.reshape(-1, 784)\n",
    "        x = self.relu(self.fc(x))\n",
    "        x = self.log_softmax(self.out(x))\n",
    "\n",
    "        # Define likelihood P(y | w)\n",
    "        with pyro.plate(\"data\", x.shape[0]):\n",
    "            obs = pyro.sample(\"obs\", dist.Categorical(logits=x), obs=y)\n",
    "        return x"
   ]
  },
  {
   "cell_type": "code",
   "execution_count": 15,
   "metadata": {
    "Collapsed": "false"
   },
   "outputs": [
    {
     "name": "stdout",
     "output_type": "stream",
     "text": [
      "BayesNN(\n",
      "  (fc): PyroLinear(in_features=784, out_features=400, bias=True)\n",
      "  (out): PyroLinear(in_features=400, out_features=10, bias=True)\n",
      "  (relu): ReLU()\n",
      "  (log_softmax): LogSoftmax(dim=1)\n",
      ")\n",
      "AutoDiagonalNormal()\n"
     ]
    }
   ],
   "source": [
    "# Define model and guide function\n",
    "bayes_net = BayesNN(400)\n",
    "guide = AutoDiagonalNormal(bayes_net)\n",
    "\n",
    "print(bayes_net)\n",
    "print(guide)\n",
    "\n",
    "# Define SVI and optimizer\n",
    "pyro.clear_param_store()\n",
    "optimizer = pyro.optim.Adam({\"lr\": 0.03})\n",
    "svi = SVI(bayes_net, guide, optimizer, loss=Trace_ELBO())"
   ]
  },
  {
   "cell_type": "markdown",
   "metadata": {},
   "source": [
    "Start training"
   ]
  },
  {
   "cell_type": "code",
   "execution_count": 16,
   "metadata": {
    "Collapsed": "false",
    "jupyter": {
     "outputs_hidden": true
    }
   },
   "outputs": [
    {
     "name": "stdout",
     "output_type": "stream",
     "text": [
      "Start training\n",
      "Epoch 0: Loss 427.1018519284566\n",
      "Epoch 1: Loss 87.34109033679962\n",
      "Epoch 2: Loss 83.10549624932607\n",
      "Epoch 3: Loss 79.01871994978586\n",
      "Epoch 4: Loss 77.43087399724324\n"
     ]
    }
   ],
   "source": [
    "max_epochs = 5\n",
    "\n",
    "print('Start training')\n",
    "for epoch in range(max_epochs):\n",
    "    train_loss = 0\n",
    "    for i_batch, (x_data, y_data) in enumerate(train_loader):\n",
    "        # calculate the loss and take a gradient step\n",
    "        train_loss += svi.step(x_data, y_data)\n",
    "    train_loss = train_loss / len(train_loader.dataset)\n",
    "    print(\"Epoch {}: Loss {}\".format(epoch, train_loss))"
   ]
  },
  {
   "cell_type": "code",
   "execution_count": 17,
   "metadata": {
    "Collapsed": "false"
   },
   "outputs": [
    {
     "name": "stdout",
     "output_type": "stream",
     "text": [
      "AutoDiagonalNormal.loc Parameter containing:\n",
      "tensor([-0.1545, -0.1300,  0.0337,  ..., -0.6546,  0.0781,  6.0563])\n",
      "AutoDiagonalNormal.scale tensor([0.9895, 0.9428, 0.9070,  ..., 1.1429, 1.3491, 0.8762])\n"
     ]
    }
   ],
   "source": [
    "guide.requires_grad_(False)\n",
    "for name, value in pyro.get_param_store().items():\n",
    "    print(name, pyro.param(name))"
   ]
  },
  {
   "cell_type": "markdown",
   "metadata": {
    "Collapsed": "false"
   },
   "source": [
    "## Inference"
   ]
  },
  {
   "cell_type": "markdown",
   "metadata": {},
   "source": [
    "Bayesian CNN inference"
   ]
  },
  {
   "cell_type": "code",
   "execution_count": 19,
   "metadata": {
    "Collapsed": "false"
   },
   "outputs": [
    {
     "name": "stdout",
     "output_type": "stream",
     "text": [
      "accuracy: 88 %\n"
     ]
    }
   ],
   "source": [
    "from pyro.infer import Predictive\n",
    "\n",
    "# Create prediction model with 100 samples\n",
    "return_sites = (\"_RETURN\", )\n",
    "num_samples = 100\n",
    "predictive = Predictive(\n",
    "    bayes_net, guide=guide, num_samples=num_samples, return_sites=return_sites)\n",
    "\n",
    "def bayes_predict(x):\n",
    "    ''' Convenient prediction function using the Bayseian NN '''\n",
    "    with torch.no_grad():\n",
    "        yhat = predictive(x)['_RETURN']\n",
    "        yhat = torch.mean(yhat, 0)\n",
    "        return torch.argmax(yhat, 1)\n",
    "    \n",
    "# Evaluate performance on test set\n",
    "correct = 0\n",
    "total = 0\n",
    "with torch.no_grad():\n",
    "    for i, (x_data, y_data) in enumerate(test_loader):\n",
    "        yhat_data = bayes_predict(x_data)\n",
    "        total += y_data.size(0)\n",
    "        correct += (yhat_data == y_data).sum().item()\n",
    "    \n",
    "print(\"accuracy: %d %%\" % (100 * correct / total))"
   ]
  },
  {
   "cell_type": "markdown",
   "metadata": {},
   "source": [
    "Traditional CNN inference"
   ]
  },
  {
   "cell_type": "code",
   "execution_count": 20,
   "metadata": {
    "Collapsed": "false"
   },
   "outputs": [
    {
     "name": "stdout",
     "output_type": "stream",
     "text": [
      "accuracy: 97 %\n"
     ]
    }
   ],
   "source": [
    "def predict(x):\n",
    "    ''' Covenient prediction function using the traditional NN '''\n",
    "    with torch.no_grad():\n",
    "        yhat = net(x)\n",
    "        return torch.argmax(yhat, 1) \n",
    "    \n",
    "# Evaluate performance on test set\n",
    "correct = 0\n",
    "total = 0\n",
    "with torch.no_grad():\n",
    "    for i, (x_data, y_data) in enumerate(test_loader):\n",
    "        yhat_data = predict(x_data)\n",
    "        total += y_data.size(0)\n",
    "        correct += (yhat_data == y_data).sum().item()\n",
    "    \n",
    "print(\"accuracy: %d %%\" % (100 * correct / total))"
   ]
  },
  {
   "cell_type": "markdown",
   "metadata": {
    "Collapsed": "false"
   },
   "source": [
    "## Inference on different datasets"
   ]
  },
  {
   "cell_type": "code",
   "execution_count": 21,
   "metadata": {
    "Collapsed": "false"
   },
   "outputs": [],
   "source": [
    "def plot_barplot(x, save=None):\n",
    "    ''' Convenient function for bar plot '''\n",
    "    yhat = predictive(x)['_RETURN'].detach().numpy()\n",
    "    yhat = np.argmax(np.squeeze(yhat), 1)\n",
    "    labels = np.arange(10)\n",
    "    counts = np.bincount(yhat, minlength=10)\n",
    "    \n",
    "    \n",
    "    plt.figure()\n",
    "    sns.barplot(labels, counts)\n",
    "    plt.xlabel('Label')\n",
    "    plt.ylabel('Count')\n",
    "    if save is not None:\n",
    "        plt.savefig(save, dpi=300)\n",
    "    plt.show()"
   ]
  },
  {
   "cell_type": "markdown",
   "metadata": {},
   "source": [
    "### MNIST Image"
   ]
  },
  {
   "cell_type": "code",
   "execution_count": 44,
   "metadata": {
    "Collapsed": "false"
   },
   "outputs": [
    {
     "name": "stdout",
     "output_type": "stream",
     "text": [
      "Prediction: 7\n",
      "Label 7\n"
     ]
    },
    {
     "data": {
      "image/png": "[encoded data removed]",
      "text/plain": [
       "<Figure size 576x360 with 1 Axes>"
      ]
     },
     "metadata": {
      "needs_background": "light"
     },
     "output_type": "display_data"
    },
    {
     "data": {
      "image/png": "[encoded data removed]",
      "text/plain": [
       "<Figure size 576x360 with 1 Axes>"
      ]
     },
     "metadata": {
      "needs_background": "light"
     },
     "output_type": "display_data"
    }
   ],
   "source": [
    "x, y = test_loader.dataset[0]\n",
    "x = x.view(1, 1, 28, 28)\n",
    "\n",
    "print('Prediction: {}'.format(predict(x).numpy()[0]))\n",
    "print('Label {}'.format(y))\n",
    "\n",
    "show_image(x, save='ex.png')\n",
    "plot_barplot(x, save='barplot_ex.png')"
   ]
  },
  {
   "cell_type": "markdown",
   "metadata": {
    "Collapsed": "false"
   },
   "source": [
    "### Random noise image"
   ]
  },
  {
   "cell_type": "code",
   "execution_count": 45,
   "metadata": {
    "Collapsed": "false"
   },
   "outputs": [
    {
     "name": "stdout",
     "output_type": "stream",
     "text": [
      "Prediction: 9\n"
     ]
    },
    {
     "data": {
      "image/png": "[encoded data removed]",
      "text/plain": [
       "<Figure size 576x360 with 1 Axes>"
      ]
     },
     "metadata": {
      "needs_background": "light"
     },
     "output_type": "display_data"
    },
    {
     "data": {
      "image/png": "[encoded data removed]",
      "text/plain": [
       "<Figure size 576x360 with 1 Axes>"
      ]
     },
     "metadata": {
      "needs_background": "light"
     },
     "output_type": "display_data"
    }
   ],
   "source": [
    "x = torch.rand(1, 1, 28, 28)\n",
    "\n",
    "print('Prediction: {}'.format(predict(x).numpy()[0]))\n",
    "\n",
    "show_image(x, save='noise.png')\n",
    "plot_barplot(x, save='barplot_noise.png')"
   ]
  },
  {
   "cell_type": "markdown",
   "metadata": {
    "Collapsed": "false"
   },
   "source": [
    "### Image from URL"
   ]
  },
  {
   "cell_type": "code",
   "execution_count": 46,
   "metadata": {
    "Collapsed": "false"
   },
   "outputs": [],
   "source": [
    "from PIL import Image\n",
    "import requests\n",
    "from io import BytesIO\n",
    "\n",
    "url = 'https://images.unsplash.com/photo-1482786951817-f26b90cfb79c?ixlib=rb-1.2.1&auto=format&fit=crop&w=1000&q=80'\n",
    "response = requests.get(url)\n",
    "img = Image.open(BytesIO(response.content)).convert('L')\n",
    "img = img.resize((28, 28))"
   ]
  },
  {
   "cell_type": "code",
   "execution_count": 47,
   "metadata": {
    "Collapsed": "false"
   },
   "outputs": [
    {
     "name": "stdout",
     "output_type": "stream",
     "text": [
      "Prediction: 9\n"
     ]
    },
    {
     "data": {
      "image/png": "[encoded data removed]",
      "text/plain": [
       "<Figure size 576x360 with 1 Axes>"
      ]
     },
     "metadata": {
      "needs_background": "light"
     },
     "output_type": "display_data"
    },
    {
     "data": {
      "image/png": "[encoded data removed]",
      "text/plain": [
       "<Figure size 576x360 with 1 Axes>"
      ]
     },
     "metadata": {
      "needs_background": "light"
     },
     "output_type": "display_data"
    }
   ],
   "source": [
    "trans = transforms.ToTensor()\n",
    "x = transforms.ToTensor()(img)\n",
    "# x = 1 - x\n",
    "x = x.view(1, 1, 28, 28)\n",
    "\n",
    "print('Prediction: {}'.format(predict(x).numpy()[0]))\n",
    "\n",
    "show_image(x)\n",
    "plot_barplot(x)"
   ]
  },
  {
   "cell_type": "markdown",
   "metadata": {
    "Collapsed": "false"
   },
   "source": [
    "## Adversarial\n",
    "\n",
    "In this example, we use adversarial technique to trick the traditional CNN into mislabeling two almost identical images."
   ]
  },
  {
   "cell_type": "code",
   "execution_count": 48,
   "metadata": {
    "Collapsed": "false"
   },
   "outputs": [],
   "source": [
    "from torch.autograd import Variable,grad"
   ]
  },
  {
   "cell_type": "markdown",
   "metadata": {
    "Collapsed": "false"
   },
   "source": [
    "Create and test on adversarial example"
   ]
  },
  {
   "cell_type": "code",
   "execution_count": 61,
   "metadata": {
    "Collapsed": "false"
   },
   "outputs": [],
   "source": [
    "# select a random MNIST image, here the label is 1\n",
    "x_target, _ = test_loader.dataset[2]\n",
    "x_target = x_target.view(1, 1, 28, 28)\n",
    "\n",
    "# create an advesarial image\n",
    "x = torch.normal(.5, .3, (1, 1, 28, 28), requires_grad=True)\n",
    "y = torch.tensor([7])    # what the mislabel will be\n",
    "\n",
    "# adversarial parameters that control the gradient upgrade (similar to learning rate)\n",
    "eta = 0.1\n",
    "lam = 0.05\n",
    "\n",
    "# Gradient descent on the input\n",
    "steps = 1000\n",
    "for i in range(steps):\n",
    "    yhat = net(x)\n",
    "    loss = criterion(yhat, y)\n",
    "    \n",
    "    # Calculate the derivative\n",
    "    g = grad(loss, x, retain_graph=True, allow_unused=True)\n",
    "    g = g[0]\n",
    "\n",
    "    # The GD update on x, with an added penalty \n",
    "    # to the cost function\n",
    "    x = x - eta * (g + lam * (x - x_target))"
   ]
  },
  {
   "cell_type": "markdown",
   "metadata": {},
   "source": [
    "The first image is the adversarial image of the second image. Although they look identical to the human eyes, the noise added into the adversarial image will make the traditional CNN mislabel it to 7 (instead of 1)"
   ]
  },
  {
   "cell_type": "code",
   "execution_count": 62,
   "metadata": {
    "Collapsed": "false"
   },
   "outputs": [
    {
     "data": {
      "image/png": "[encoded data removed]",
      "text/plain": [
       "<Figure size 576x360 with 1 Axes>"
      ]
     },
     "metadata": {
      "needs_background": "light"
     },
     "output_type": "display_data"
    },
    {
     "data": {
      "image/png": "[encoded data removed]",
      "text/plain": [
       "<Figure size 576x360 with 1 Axes>"
      ]
     },
     "metadata": {
      "needs_background": "light"
     },
     "output_type": "display_data"
    }
   ],
   "source": [
    "show_image(x, save='adv1.png')\n",
    "show_image(x_target, save='adv_target1.png')"
   ]
  },
  {
   "cell_type": "markdown",
   "metadata": {},
   "source": [
    "The Bayes CNN, however, is not fooled by such treachery"
   ]
  },
  {
   "cell_type": "code",
   "execution_count": 63,
   "metadata": {
    "Collapsed": "false"
   },
   "outputs": [
    {
     "data": {
      "image/png": "[encoded data removed]",
      "text/plain": [
       "<Figure size 576x360 with 1 Axes>"
      ]
     },
     "metadata": {
      "needs_background": "light"
     },
     "output_type": "display_data"
    },
    {
     "data": {
      "image/png": "[encoded data removed]",
      "text/plain": [
       "<Figure size 576x360 with 1 Axes>"
      ]
     },
     "metadata": {
      "needs_background": "light"
     },
     "output_type": "display_data"
    }
   ],
   "source": [
    "plot_barplot(x, save='adv_barplot1.png')\n",
    "plot_barplot(x_target, save='adv_target_barplot1.png')"
   ]
  },
  {
   "cell_type": "code",
   "execution_count": 58,
   "metadata": {
    "Collapsed": "false"
   },
   "outputs": [
    {
     "name": "stdout",
     "output_type": "stream",
     "text": [
      "Prediction: 7\n",
      "Prediction: 1\n"
     ]
    }
   ],
   "source": [
    "print('Prediction: {}'.format(predict(x).numpy()[0]))\n",
    "print('Prediction: {}'.format(predict(x_target).numpy()[0]))"
   ]
  }
 ],
 "metadata": {
  "kernelspec": {
   "display_name": "pytorch",
   "language": "python",
   "name": "pytorch"
  },
  "language_info": {
   "codemirror_mode": {
    "name": "ipython",
    "version": 3
   },
   "file_extension": ".py",
   "mimetype": "text/x-python",
   "name": "python",
   "nbconvert_exporter": "python",
   "pygments_lexer": "ipython3",
   "version": "3.8.3"
  },
  "widgets": {
   "application/vnd.jupyter.widget-state+json": {
    "state": {},
    "version_major": 2,
    "version_minor": 0
   }
  }
 },
 "nbformat": 4,
 "nbformat_minor": 4
}
