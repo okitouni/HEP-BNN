{
  "nbformat": 4,
  "nbformat_minor": 0,
  "metadata": {
    "colab": {
      "name": "ExampleWtagMoDe0.ipynb",
      "provenance": [],
      "authorship_tag": "ABX9TyMeRcutQ6NA2fAh2eb7bQyX",
      "include_colab_link": true
    },
    "kernelspec": {
      "name": "python3",
      "display_name": "Python 3"
    }
  },
  "cells": [
    {
      "cell_type": "markdown",
      "metadata": {
        "id": "view-in-github",
        "colab_type": "text"
      },
      "source": [
        "<a href=\"https://colab.research.google.com/github/okitouni/HEP-BNN/blob/main/ExampleWtagMoDe.ipynb\" target=\"_parent\"><img src=\"https://colab.research.google.com/assets/colab-badge.svg\" alt=\"Open In Colab\"/></a>"
      ]
    },
    {
      "cell_type": "markdown",
      "metadata": {
        "id": "BGBCZX17TOdt"
      },
      "source": [
        "# **Various imports.**"
      ]
    },
    {
      "cell_type": "code",
      "metadata": {
        "id": "nL9Ew523SBjx",
        "outputId": "ae88307a-4faa-4b68-b78f-469315c6db01",
        "colab": {
          "base_uri": "https://localhost:8080/"
        }
      },
      "source": [
        "from time import time\n",
        "import numpy as np\n",
        "import torch\n",
        "from torch.utils.data import DataLoader\n",
        "from matplotlib import pyplot as plt\n",
        "!wget https://raw.githubusercontent.com/okitouni/MoDe/master/mode_torch.py\n",
        "from mode_torch import MoDeLoss"
      ],
      "execution_count": 21,
      "outputs": [
        {
          "output_type": "stream",
          "text": [
            "--2020-10-31 21:00:55--  https://raw.githubusercontent.com/okitouni/MoDe/master/mode_torch.py\n",
            "Resolving raw.githubusercontent.com (raw.githubusercontent.com)... 151.101.0.133, 151.101.64.133, 151.101.128.133, ...\n",
            "Connecting to raw.githubusercontent.com (raw.githubusercontent.com)|151.101.0.133|:443... connected.\n",
            "HTTP request sent, awaiting response... 200 OK\n",
            "Length: 15061 (15K) [text/plain]\n",
            "Saving to: ‘mode_torch.py’\n",
            "\n",
            "\rmode_torch.py         0%[                    ]       0  --.-KB/s               \rmode_torch.py       100%[===================>]  14.71K  --.-KB/s    in 0.01s   \n",
            "\n",
            "2020-10-31 21:00:55 (1.14 MB/s) - ‘mode_torch.py’ saved [15061/15061]\n",
            "\n"
          ],
          "name": "stdout"
        }
      ]
    },
    {
      "cell_type": "markdown",
      "metadata": {
        "id": "5OM-ipz5TBrK"
      },
      "source": [
        "**First we will download the W-tagging data.**\n",
        "\n",
        "W_high_level.npz: train|test|val for the W tagging task using high level variables.\n",
        "\n",
        "Each train|test|val array has the shape (N,12) where N is the number of examples.\n",
        "\n",
        "Test: N=850000\n",
        "Train: N=360000\n",
        "Val: N=410000\n",
        "\n",
        "The 12 columns are (in this order):\n",
        "\n",
        "'mass', 'pt', 'tau21',  'c2',  'd2', 'fw',  'pf', 'ap', 'zcutdef', 'ktdr', 'sqrtd12', 'label'\n",
        "\n",
        "For definitions of the variables 1-11 see  [[MoDe-PAPER]](https://arxiv.org/pdf/2010.09745.pdf), [DISCO-PAPER], or ATL-PHYS-PUB-2018-014.\n",
        "\n",
        "Mass is: (Mass_in_GeV - 50)/250\n",
        "\n",
        "The final column (label) is 0 for W Jets and 1 for QCD"
      ]
    },
    {
      "cell_type": "code",
      "metadata": {
        "id": "TRbw-qWdR_My",
        "outputId": "2c8e3df9-233c-4867-b006-78697b25d7d0",
        "colab": {
          "base_uri": "https://localhost:8080/"
        }
      },
      "source": [
        "!wget https://zenodo.org/record/3606767/files/W_high_level.npz"
      ],
      "execution_count": 1,
      "outputs": [
        {
          "output_type": "stream",
          "text": [
            "--2020-10-31 20:10:16--  https://zenodo.org/record/3606767/files/W_high_level.npz?download=1\n",
            "Resolving zenodo.org (zenodo.org)... 137.138.76.77\n",
            "Connecting to zenodo.org (zenodo.org)|137.138.76.77|:443... connected.\n",
            "HTTP request sent, awaiting response... 200 OK\n",
            "Length: 155520682 (148M) [application/octet-stream]\n",
            "Saving to: ‘W_high_level.npz?download=1’\n",
            "\n",
            "W_high_level.npz?do 100%[===================>] 148.32M  5.19MB/s    in 30s     \n",
            "\n",
            "2020-10-31 20:10:48 (4.99 MB/s) - ‘W_high_level.npz?download=1’ saved [155520682/155520682]\n",
            "\n"
          ],
          "name": "stdout"
        }
      ]
    },
    {
      "cell_type": "code",
      "metadata": {
        "id": "afMlVuBvSqh9",
        "outputId": "c0247d41-dead-4aa6-d1cf-5941929dd8dc",
        "colab": {
          "base_uri": "https://localhost:8080/",
          "height": 592
        }
      },
      "source": [
        "#dataset \n",
        "files = np.load(\"W_high_level.npz\")\n",
        "train = files[\"train\"].astype('float32')\n",
        "val = files[\"val\"].astype('float32')\n",
        "test = files[\"test\"].astype('float32')\n",
        "\n",
        "train_labels = train[::,-1]\n",
        "val_labels   = val[::,-1]\n",
        "test_labels=test[::,-1]\n",
        "\n",
        "data = np.concatenate([train,val,test],axis=0)\n",
        "maxdata = data.max(axis=0)\n",
        "mindata = data.min(axis=0)\n",
        "data = (data-mindata)/(maxdata-mindata)\n",
        "data[::,0] = 2*(data[::,0]-data[:,0].min())/(data[:,0].max()-data[:,0].min())-1\n",
        "# data[:,:-1] = (data[:,:-1] - data[:,:-1].mean(axis=0))/np.std(data[:,:-1],axis=0)\n",
        "\n",
        "train = data[:train.shape[0]]\n",
        "val = data[train.shape[0]:val.shape[0]+train.shape[0]]\n",
        "test = data[val.shape[0]+train.shape[0]:]\n",
        "\n",
        "\n",
        "fig, axes = plt.subplots(3,4,figsize=(12,10))\n",
        "histtype='bar'\n",
        "label = ['mass', 'pt', 'tau21', 'c2', 'd2', 'fw', 'pf', 'ap', 'zcutdef', 'ktdr', 'sqrtd12', 'label']\n",
        "for i,ax in enumerate(axes.flatten()):\n",
        "    if i==11:histtype='bar'\n",
        "    ax.hist(train[:,i][train[:,-1]==0],bins=50,alpha=0.3,label='train-sign',histtype=histtype)\n",
        "    ax.hist(train[:,i][train[:,-1]==1],bins=50,alpha=0.3,label='train-bckg',histtype=histtype)\n",
        "    ax.hist(test[:,i][test[:,-1]==0],bins=50,alpha=0.3,label='test-sign',histtype='step')\n",
        "    ax.hist(test[:,i][test[:,-1]==1],bins=50,alpha=0.3,label='test-bckg',histtype='step')\n",
        "    ax.set_yticks([])\n",
        "    if i==0: ax.legend()\n",
        "    ax.set_xlabel(label[i])\n",
        "\n",
        "test_mass = files[\"test\"].astype('float32')[:,0]*250+50"
      ],
      "execution_count": 22,
      "outputs": [
        {
          "output_type": "display_data",
          "data": {
            "image/png": "[encoded data removed]",
            "text/plain": [
              "<Figure size 864x720 with 12 Axes>"
            ]
          },
          "metadata": {
            "tags": [],
            "needs_background": "light"
          }
        }
      ]
    },
    {
      "cell_type": "code",
      "metadata": {
        "id": "zmCXVwVGfdL9"
      },
      "source": [
        "from torch.utils.data import Dataset\n",
        "class Dataset(Dataset):\n",
        "    def __init__(self, samples,labels,m=None,weights=None):\n",
        "        'Initialization'\n",
        "        self.labels = labels\n",
        "        self.samples = samples\n",
        "        self.m = m\n",
        "        if len(samples)!=len(labels):\n",
        "            raise ValueError(f\"should have the same number of samples({len(samples)}) as there are labels({len(labels)})\")\n",
        "        if weights is None:\n",
        "            self.weights = np.ones_like(labels)\n",
        "        else:\n",
        "            if len(weights)!=len(labels):\n",
        "                raise ValueError(f\"should have the same number of weights({len(weights)}) as there are samples({len(labels)})\")\n",
        "            self.weights = weights\n",
        "\n",
        "    def __len__(self):\n",
        "        return len(self.labels)\n",
        "\n",
        "    def __getitem__(self, index):\n",
        "        # Select sample\n",
        "        X = self.samples[index]\n",
        "        y = self.labels[index]\n",
        "        m = self.m[index] if self.m is not None else self.m\n",
        "        w = self.weights[index]\n",
        "        return  X,y,m,w\n",
        "\"\"\" Finalize dataset \"\"\"\n",
        "traindataset = Dataset(samples=train[::,1:-1],\n",
        "                       labels=train_labels,\n",
        "                       m = train[::,0])\n",
        "valdataset = Dataset(samples=val[:,1:-1],\n",
        "                     labels=val_labels,\n",
        "                    m = val[::,0])\n",
        "X = torch.from_numpy(test[:,1:11]).float()#.to(device)"
      ],
      "execution_count": 23,
      "outputs": []
    },
    {
      "cell_type": "markdown",
      "metadata": {
        "id": "Hw6ZWSQDiTG0"
      },
      "source": [
        "Here we will define various helper functions used for plotting and computing the metrics *R50* and *1/JSD* as described in the MoDe paper (see above.)"
      ]
    },
    {
      "cell_type": "code",
      "metadata": {
        "id": "okaIf-jLgt6i"
      },
      "source": [
        "def metric_calc(model,X,y,x_biased,metric=None):\n",
        "    predictions = np.array(model(X).tolist()).flatten()\n",
        "    if metric is None:\n",
        "        metrics_test = Metrics(validation=True) \n",
        "    else:\n",
        "        metrics_test = metric(validation=True) \n",
        "    metrics_test.calculate(pred=predictions, target=y,m=x_biased)\n",
        "    R50 = metrics_test.R50[0]\n",
        "    JSD = metrics_test.JSD[0]\n",
        "    return (1/JSD,R50)\n",
        "def find_threshold(L,mask,x_frac):\n",
        "    \"\"\"\n",
        "    Calculate c such that x_frac of the array is less than c.\n",
        "\n",
        "    Parameters\n",
        "    ----------\n",
        "    L : Array\n",
        "        The array where the cutoff is to be found\n",
        "    mask : Array,\n",
        "        Mask that returns L[mask] the part of the original array over which it is desired to calculate the threshold.\n",
        "    x_frac : float\n",
        "        Of the area that is lass than or equal to c.\n",
        "\n",
        "    returns c (type=L.dtype)\n",
        "    \"\"\"\n",
        "    max_x = mask.sum()\n",
        "    x = int(np.round(x_frac * max_x))\n",
        "    L_sorted = np.sort(L[mask.astype(bool)])\n",
        "    return L_sorted[x]   \n",
        "def plot_stuff(model,X,y,x_biased,mbins=100,histbins=None,name='Naive DNN',f=None,ptype=0,dynamicbins=True,scale=None,legend_ncol=3):\n",
        "    if histbins == None:\n",
        "        histbins=mbins\n",
        "    predictions = np.array(model(X).tolist()).flatten()\n",
        "    metrics_test = Metrics(validation=True) \n",
        "    metrics_test.calculate(pred=predictions, target=y,m=x_biased)\n",
        "    R50 = metrics_test.R50[0]\n",
        "    JSD = metrics_test.JSD[0]\n",
        "\n",
        "    c = find_threshold(predictions,(y==0),0.5)\n",
        "    fig, [ax,ax1] = plt.subplots(2,1,figsize=(6,8),dpi=120,sharex=True)\n",
        "    _,bins,_ = ax.hist(x_biased[(y==1)],bins=histbins,alpha=0.3,color='C1',label='Background',density=True,log=True)\n",
        "    ax.hist(x_biased[(y==1)&(predictions<c)],bins=bins,alpha=0.3,color='C0',label='False Positives',density=True,log=True)\n",
        "    ax.set_ylabel(\"Normed Counts\",fontsize=14)\n",
        "    ax.set_title('{} (R50:{:.2f}, 1/JSD:{:.2f})'.format(name,R50,1/JSD))\n",
        "    ax.legend()\n",
        "\n",
        "    efficiencies = np.linspace(0.1,0.9,9)[::-1]\n",
        "    cuts = []\n",
        "    for eff in efficiencies:\n",
        "        cuts.append(find_threshold(predictions,(y==0),eff))\n",
        "    m = x_biased[y==1]\n",
        "    scores = predictions[y==1]\n",
        "    if dynamicbins:\n",
        "        sorted_m = np.argsort(m)\n",
        "        scores = scores[sorted_m].reshape(mbins,-1)\n",
        "        m = m[sorted_m]\n",
        "        m = m.reshape(mbins,-1).mean(axis=1)\n",
        "    else:\n",
        "        _,bins = np.histogram(m,bins=mbins)\n",
        "        digitized = np.digitize(m,bins)\n",
        "        m = (bins[:-1] + bins[1:])*0.5\n",
        "    for j,cut in enumerate(cuts):\n",
        "        c = f\"C{j}\" #if j!= 6 else f\"C11\"\n",
        "        if dynamicbins:\n",
        "            passed = (scores<cut).sum(axis=1)/scores.shape[1]\n",
        "        else:\n",
        "            passed = [(scores[digitized==i+1]<cut).sum()/(digitized==i+1).sum() for i in range(mbins)]\n",
        "        if ptype == 0:\n",
        "            ax1.plot(m,passed,label=\"{:0.1f} ({:0.2f})\".format(efficiencies[j],cut),alpha=0.9,c=c,lw=1)\n",
        "        else:\n",
        "            ax1.step(m,passed,label=\"{:0.1f} ({:0.2f})\".format(efficiencies[j],cut),alpha=0.9,c=c,lw=1)\n",
        "    if scale is not None:\n",
        "        ax1.set_yscale(scale)        \n",
        "    ax1.set_ylabel(\"False Pos. Rate\",fontsize=14)\n",
        "    ax1.set_ylim([-0.02,1.02])\n",
        "    ax1.legend(loc='upper right', bbox_to_anchor=(1,1) ,markerscale=5,title=\"SE (Cut)\",ncol=legend_ncol)\n",
        "    ax1.set_xlabel(r\"$m$\",fontsize=14)\n",
        "    fig.tight_layout(pad=0)\n",
        "    if f is not None:\n",
        "        fig.savefig(f)\n",
        "    plt.show()\n",
        "    return (1/JSD,R50)\n",
        "def swish(x):\n",
        "    return x* torch.sigmoid(x)   "
      ],
      "execution_count": 25,
      "outputs": []
    },
    {
      "cell_type": "markdown",
      "metadata": {
        "id": "wqJIl5UFi8FK"
      },
      "source": [
        "Here we will define our classifier. It is a simple NN with 3 fully connected layers (64) with swish activation."
      ]
    },
    {
      "cell_type": "code",
      "metadata": {
        "id": "BevixCKIi6ol"
      },
      "source": [
        "class Model(torch.nn.Module):\n",
        "    def __init__(self,input_size=10,name=None):\n",
        "        \"\"\"\n",
        "         DNN Model inherits from torch.torch.nn.Module. Can be initialized with input_size: Number of features per sample.\n",
        "\n",
        "        This is a class wrapper for a simple DNN model. Creates an instance of torch.torch.nn.Module that has 4 linear layers. Use torchsummary for details.abs\n",
        "\n",
        "        Parameters\n",
        "        ----------\n",
        "        input_size : int=10\n",
        "            The number of features to train on.\n",
        "        name : string=None\n",
        "            Specifiy a name for the Dtorch.nn.break\n",
        "        \"\"\"\n",
        "        super(Classifier,self).__init__()\n",
        "        self.linear = torch.nn.Linear(input_size,64,bias=False)\n",
        "        self.linear1 = torch.nn.Linear(64,64,)\n",
        "        self.linear2 = torch.nn.Linear(64,64)\n",
        "        self.batchnorm = torch.nn.BatchNorm1d(64)\n",
        "        self.out = torch.nn.Linear(64,1)\n",
        "        # Defaults\n",
        "        self.optimizer = torch.optim.SGD(self.parameters(),lr=1e-3)\n",
        "        self.yhat_val = None\n",
        "        self.yhat = None\n",
        "        self.name = name\n",
        "    def forward(self, x):\n",
        "        x = swish(self.linear(x))\n",
        "        x = self.batchnorm(x)\n",
        "        x = swish(self.linear1(x))\n",
        "        x = swish(self.linear2(x))\n",
        "        x = torch.sigmoid(self.out(x))\n",
        "        return x \n",
        "    def fit(self,traindataset,epochs=200,batch_size=None, shuffle=False, num_workers=None, optimizer=None,scheduler=None,loss=None,interval=100,valdataset=None,drop_last=False,metrics=None,delay_loss=False,pass_x_biased=False,device='cpu',log=None,verbose=True):\n",
        "        \"\"\"\n",
        "        Fit model to traindataset.\n",
        "\n",
        "        Parameters\n",
        "        ----------\n",
        "        traindataset : DataSet\n",
        "            The DataSet [torch.utils.data.Dataset] instance containing the training data. Used to create a DataLoader. Must return x,y,m where x is the vector of features, y is the label and m is the biased feature.\n",
        "        epochs : int\n",
        "            Number of epochs to train.\n",
        "        batch_size : int\n",
        "            Size of the batch.\n",
        "        shuffle : bool\n",
        "            If True shuffles the training data.\n",
        "        num_workers : int\n",
        "            Passed to DataLoader.\n",
        "        optimizer : torch.optim\n",
        "            Optimizer to use in the training. Defaults to torch.optim.SGD(lr-1e-3).\n",
        "        scheduler : torch.optim.lr_scheduler\n",
        "            Scheduler used to change the learning rate.\n",
        "        loss : Callable\n",
        "            Criterion to minimize. Defaults to torch.nn.MSELoss\n",
        "        interval : int\n",
        "            Log and print progress every epochs mod interval == 0.\n",
        "        valdataset : DataSet\n",
        "            Same as traindataset but for the validation data.\n",
        "        drop_last : bool\n",
        "            If drop_last the DataLoader will only keep floor(len(traindataset)/batch_size). Used if the loss requires batches of the same size.\n",
        "        metrics : [Metrics,Metrics]\n",
        "            Metrics object where to store the training/validation metrics.\n",
        "        delay_loss : int\n",
        "            Delay using the provided loss for delay_loss epochs. Optmizer uses WeightedMSE before that.\n",
        "        pass_x_biased : bool\n",
        "            If true, passes the biased feature as a third argument to the loss function.\n",
        "        device : str or torch.device\n",
        "            Which device to use. Defaults to cpu.\n",
        "        log : Logger\n",
        "            Logging object.\n",
        "        \"\"\"\n",
        "        if optimizer is None:\n",
        "            optimizer = torch.optim.Adam(self.parameters(),lr=1e-3)\n",
        "        if loss:\n",
        "            self.loss = loss\n",
        "        if metrics is None:\n",
        "            metrics = [Metrics(),Metrics(validation=True)]\n",
        "        if log:\n",
        "            params = locals()\n",
        "            [params.pop(item) for item in ['self','scheduler','log',\"traindataset\",\"verbose\",\"valdataset\",\"optimizer\",'loss',\"metrics\"]]\n",
        "            log.initialize(model=self,params=params,loss=self.loss,optimizer=optimizer,scheduler=scheduler)\n",
        "\n",
        "        if valdataset:\n",
        "            validation_generator = DataLoader(valdataset,batch_size=len(valdataset),shuffle=False)\n",
        "        training_generator = DataLoader(traindataset, batch_size=batch_size, shuffle=shuffle,num_workers=num_workers,drop_last=drop_last)\n",
        "        t0 = time()\n",
        "        loss = 0\n",
        "        acc = 0\n",
        "        self.losses = []\n",
        "        print(\"Entering Training...\")\n",
        "        for epoch in range(1,epochs+1):\n",
        "           # Feed forward\n",
        "            #self.loss.m = torch.Tensor().to(device)\n",
        "            #self.loss.pred_long = torch.Tensor().to(device)\n",
        "            for item in training_generator:\n",
        "                x,y,m,weights = item\n",
        "                if device!='cpu':\n",
        "                    x,y,m,weights = x.to(device),y.to(device),m.to(device), weights.to(device)\n",
        "                self.train()\n",
        "                yhat = self(x).view(-1)\n",
        "                if epoch<delay_loss:\n",
        "                    l = torch.nn.MSELoss()(yhat,y)\n",
        "                elif pass_x_biased==False:\n",
        "                    l = self.loss(pred=yhat,target=y,weights=weights)\n",
        "                else:\n",
        "                    l = self.loss(pred=yhat,target=y,x_biased=m,weights=weights)\n",
        "                l.backward()\n",
        "                self.losses.append(l.item())  #delete later\n",
        "                metrics[0].losses.append(l.item())\n",
        "                optimizer.step()\n",
        "                optimizer.zero_grad()\n",
        "                if scheduler is not None: scheduler.step()\n",
        "            #Validation and Printing\n",
        "            if valdataset:\n",
        "                if epoch % interval ==0 or epoch == epochs or epoch==1:\n",
        "                    self.train(False)\n",
        "                    for x,yval,m_val,weights in  validation_generator:\n",
        "                        break\n",
        "                    if device!='cpu':\n",
        "                        x,yval,m_val = x.to(device),yval.to(device),m_val.to(device)\n",
        "                   #     weights = weights.to(device)\n",
        "                    yhat_val = self(x).view(-1)\n",
        "                    valloss = lambda x,y: ((x-y)**2).sum()\n",
        "                    l_val = valloss(yhat_val,yval)\n",
        "                    metrics[0].calculate(pred=yhat.data,target=y,m=m)\n",
        "                    metrics[1].calculate(pred=yhat_val.data,target=yval,m=m_val,l=l_val.item())\n",
        "                    if verbose or log is not None:\n",
        "                        acc = metrics[0].accs[-1]\n",
        "                        R50 = metrics[1].R50[-1]\n",
        "                        JSD = metrics[1].JSD[-1]\n",
        "                        acc_val = metrics[1].accs[-1]\n",
        "                        entry = 'Epoch:{:04d}/{:04d}  ({t:<5.1f}s)\\n'.format(epoch,epochs,t=time()-t0) +\\\n",
        "                                ' Train: loss:{:.4f}, acc:{:.1f}%'.format(l.item(),100*acc) +\\\n",
        "                                ' || Val: loss: {:.4f}, acc:{:.1f}%, R50: {:.4f}, 1/JSD: {:.4f}'.format(\n",
        "                    l_val.item(), 100.* acc_val,R50,1/JSD)\n",
        "                        if verbose:\n",
        "                            print(entry)\n",
        "                        if log is not None:\n",
        "                            log.entry(entry)\n",
        "                    del x, yval, m, l_val, m_val, weights\n",
        "                    self.yhat_val = yhat_val.data.cpu()\n",
        "            else:\n",
        "                if epoch % interval ==0:\n",
        "                    metrics[0].calculate(pred=yhat.data,target=y,l=l.item())\n",
        "                    acc = metrics[0].accs[-1]\n",
        "                    entry = 'Epoch:{:04d}/{:04d} loss: {:.4f}, accuracy:({:.0f}%)'.format(\n",
        "                        epoch,epochs,l.item(), 100.* acc)\n",
        "                    print(entry)\n",
        "                    if log is not None:\n",
        "                        log.entry(entry)\n",
        "        if log is not None:\n",
        "            log.finished()\n",
        "        del l,y,item, yhat\n",
        "        if valdataset: del yhat_val\n",
        "        if device!=\"cpu\": torch.cuda.empty_cache()"
      ],
      "execution_count": 24,
      "outputs": []
    },
    {
      "cell_type": "code",
      "metadata": {
        "id": "eli55LOMmY9n"
      },
      "source": [
        "# Select training paramters\n",
        "np.random.seed(42)\n",
        "use_cuda = torch.cuda.is_available()\n",
        "device = torch.device(\"cuda:0\" if use_cuda else \"cpu\")\n",
        "params = {'epochs'       : 50,\n",
        "          'interval'     : 10, # every \"interval\" print validation results\n",
        "          'batch_size'   : 2**14,\n",
        "          'shuffle'      : True,\n",
        "          'num_workers'  : 6, # to load data in preparation of next iteration uses more memory but saves time.\n",
        "          'drop_last'    : False,\n",
        "          'device'       : device,\n",
        "          'pass_x_biased': True,\n",
        "         }\n",
        "lr = 1e-2"
      ],
      "execution_count": 27,
      "outputs": []
    },
    {
      "cell_type": "code",
      "metadata": {
        "id": "Q1uFDMP9mAD9"
      },
      "source": [
        "#Train 1e-3 to 1e-2\n",
        "# MoDe 0,1,2.\n",
        "bins = 25   # MoDe mass bins\n",
        "alpha = 250 # Relative strength of MoDe loss compared to classification loss\n",
        "for order in [0,1,2]: # MoDe[order] highest Legendre mode to use\n",
        "    torch.manual_seed(777)\n",
        "    model = Model(input_size=traindataset.samples.shape[1]).to(device)\n",
        "    # Instantiate MoDe Loss \n",
        "    MoDe = MoDeLoss(bins=bins,order=order,dynamicbins=True,background_label=1)\n",
        "                                   #max_slope=slope,eps=1e-5, monotonic=True)\n",
        "    loss = lambda pred,target,x_biased,weights: alpha * MoDe(pred,target,x_biased,) + torch.mean(weights*(target-pred)**2)\n",
        "    optimizer = torch.optim.Adam(model.parameters(),lr=lr)\n",
        "    model.fit(**params,traindataset=traindataset, valdataset=valdataset,\n",
        "              optimizer=optimizer,loss=loss)\n",
        "    with torch.no_grad():\n",
        "        title = r\"MoDe[{:d}] - bins:{:d} ($\\alpha$: {:d}, acc: {:.3})\"\n",
        "        title = title.format(order,bins,alpha,model.metrics[1].accs[-1])\n",
        "        model.to(\"cpu\")\n",
        "        model.train(False)\n",
        "        make_plot(model,Y=testTensor,y_test=y_test,y_val=y_val,m_t=m_t,\n",
        "               title=title.format(model.metrics[1].accs[-1]),\n",
        "               bins=100)"
      ],
      "execution_count": null,
      "outputs": []
    }
  ]
}